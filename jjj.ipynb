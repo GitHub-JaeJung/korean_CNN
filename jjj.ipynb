{
 "cells": [
  {
   "cell_type": "code",
   "execution_count": 1,
   "id": "e7786cb2",
   "metadata": {},
   "outputs": [],
   "source": [
    "import os\n",
    "import numpy as np\n",
    "from glob import glob\n",
    "from PIL import Image\n",
    "import tensorflow as tf\n",
    "from tensorflow import keras\n",
    "from tensorflow.keras import layers\n",
    "from keras.layers import Activation, Conv2D, Dense, Flatten, MaxPooling2D\n",
    "from keras.models import Sequential, load_model\n",
    "from keras.utils.np_utils import to_categorical\n",
    "import matplotlib.pyplot as plt\n",
    "import cv2\n",
    "from keras.preprocessing import image"
   ]
  },
  {
   "cell_type": "code",
   "execution_count": 2,
   "id": "27401f7a",
   "metadata": {},
   "outputs": [
    {
     "name": "stdout",
     "output_type": "stream",
     "text": [
      "1\n"
     ]
    }
   ],
   "source": [
    "i = 1\n",
    "print(i)\n",
    "data = []\n"
   ]
  },
  {
   "cell_type": "code",
   "execution_count": 3,
   "id": "d16ee172",
   "metadata": {},
   "outputs": [],
   "source": [
    "\n",
    "for i in range(1,1176):\n",
    "    path_x = np.load('D:/phd08-conversion-master/phd08_npy_results/phd08_data_%d.npy' %i)\n",
    "    data.append(path_x)\n",
    "    # data = np.concatenate((data, path_x), axis = 0)\n",
    "#\n",
    "# train = np.concatenate([path_x])"
   ]
  },
  {
   "cell_type": "code",
   "execution_count": 4,
   "id": "45e33b89",
   "metadata": {},
   "outputs": [],
   "source": [
    "data = np.array(data)\n"
   ]
  },
  {
   "cell_type": "code",
   "execution_count": 5,
   "id": "1187149d",
   "metadata": {},
   "outputs": [],
   "source": [
    "data = data.reshape(-1, 28, 28)\n",
    "path_x = np.concatenate((path_x, data), axis = 0)"
   ]
  },
  {
   "cell_type": "code",
   "execution_count": 6,
   "id": "e9d6c785",
   "metadata": {},
   "outputs": [],
   "source": [
    "labels = []\n",
    "for i in range(1,1176):\n",
    "    path_y = np.load('D:/phd08-conversion-master/phd08_npy_results/phd08_labels_%d.npy' %i)\n",
    "    labels.append(path_y)"
   ]
  },
  {
   "cell_type": "code",
   "execution_count": 7,
   "id": "7879f822",
   "metadata": {},
   "outputs": [],
   "source": [
    "labels = np.array(labels)\n"
   ]
  },
  {
   "cell_type": "code",
   "execution_count": 8,
   "id": "ce2e8433",
   "metadata": {},
   "outputs": [
    {
     "name": "stdout",
     "output_type": "stream",
     "text": [
      "(1175, 4374)\n"
     ]
    }
   ],
   "source": [
    "print(labels.shape)\n",
    "labels = labels.reshape(-1)\n",
    "path_y = np.concatenate((path_y, labels), axis = 0)"
   ]
  },
  {
   "cell_type": "code",
   "execution_count": 9,
   "id": "2ac54a8a",
   "metadata": {},
   "outputs": [
    {
     "name": "stdout",
     "output_type": "stream",
     "text": [
      "x_train shape (4629441, 28, 28)\n",
      "y_train shape (4629441,)\n",
      "x_test shape (514383, 28, 28)\n",
      "y_test shape (514383,)\n"
     ]
    }
   ],
   "source": [
    "\n",
    "from sklearn.model_selection import train_test_split\n",
    "\n",
    "X_train, X_test, Y_train, Y_test = train_test_split(path_x,\n",
    "                                                    path_y,\n",
    "                                                    test_size = 0.1,\n",
    "                                                    stratify=path_y,\n",
    "                                                    random_state=2)\n",
    "\n",
    "print(\"x_train shape\",X_train.shape)\n",
    "print(\"y_train shape\",Y_train.shape)\n",
    "\n",
    "print(\"x_test shape\",X_test.shape)\n",
    "print(\"y_test shape\",Y_test.shape)"
   ]
  },
  {
   "cell_type": "code",
   "execution_count": 10,
   "id": "98d7a9d4",
   "metadata": {},
   "outputs": [],
   "source": [
    "X_train = X_train.reshape(-1,28,28,1)\n",
    "X_test = X_test.reshape(-1,28,28,1)"
   ]
  },
  {
   "cell_type": "code",
   "execution_count": 11,
   "id": "80548114",
   "metadata": {},
   "outputs": [
    {
     "name": "stdout",
     "output_type": "stream",
     "text": [
      "(4629441, 28, 28, 1)\n",
      "(514383, 28, 28, 1)\n"
     ]
    }
   ],
   "source": [
    "print(X_train.shape)\n",
    "print(X_test.shape)"
   ]
  },
  {
   "cell_type": "code",
   "execution_count": 12,
   "id": "b7b0cc94",
   "metadata": {},
   "outputs": [
    {
     "name": "stdout",
     "output_type": "stream",
     "text": [
      "Model: \"sequential\"\n",
      "_________________________________________________________________\n",
      "Layer (type)                 Output Shape              Param #   \n",
      "=================================================================\n",
      "conv2d (Conv2D)              (None, 26, 26, 32)        320       \n",
      "_________________________________________________________________\n",
      "max_pooling2d (MaxPooling2D) (None, 13, 13, 32)        0         \n",
      "_________________________________________________________________\n",
      "conv2d_1 (Conv2D)            (None, 11, 11, 32)        9248      \n",
      "_________________________________________________________________\n",
      "max_pooling2d_1 (MaxPooling2 (None, 5, 5, 32)          0         \n",
      "_________________________________________________________________\n",
      "conv2d_2 (Conv2D)            (None, 3, 3, 64)          18496     \n",
      "_________________________________________________________________\n",
      "max_pooling2d_2 (MaxPooling2 (None, 1, 1, 64)          0         \n",
      "_________________________________________________________________\n",
      "flatten (Flatten)            (None, 64)                0         \n",
      "_________________________________________________________________\n",
      "dense (Dense)                (None, 64)                4160      \n",
      "_________________________________________________________________\n",
      "dropout (Dropout)            (None, 64)                0         \n",
      "_________________________________________________________________\n",
      "dense_1 (Dense)              (None, 32)                2080      \n",
      "_________________________________________________________________\n",
      "dropout_1 (Dropout)          (None, 32)                0         \n",
      "_________________________________________________________________\n",
      "dense_2 (Dense)              (None, 2350)              77550     \n",
      "=================================================================\n",
      "Total params: 111,854\n",
      "Trainable params: 111,854\n",
      "Non-trainable params: 0\n",
      "_________________________________________________________________\n"
     ]
    }
   ],
   "source": [
    "model = tf.keras.Sequential([\n",
    "    # input_shape(행, 열, 채널 수) / 채널 수 = 흑백 영상 : 1, 컬러 영상 : 3\n",
    "    tf.keras.layers.Conv2D(32, (3, 3), activation = 'relu', input_shape = (28, 28, 1)), \n",
    "    tf.keras.layers.MaxPooling2D(2,2),\n",
    "    tf.keras.layers.Conv2D(32, (3, 3), activation = 'relu'),\n",
    "    tf.keras.layers.MaxPooling2D(2,2),\n",
    "    tf.keras.layers.Conv2D(64, (3, 3), activation = 'relu'),\n",
    "    tf.keras.layers.MaxPooling2D(2,2),\n",
    "    tf.keras.layers.Flatten(),\n",
    "    tf.keras.layers.Dense(64, activation=tf.nn.relu),\n",
    "    tf.keras.layers.Dropout(0.2),\n",
    "    tf.keras.layers.Dense(32, activation=tf.nn.relu),\n",
    "    tf.keras.layers.Dropout(0.2),\n",
    "    tf.keras.layers.Dense(2350, activation=tf.nn.softmax)\n",
    "])\n",
    "\n",
    "model.compile(optimizer = 'Adam', loss = 'sparse_categorical_crossentropy',metrics = [\"accuracy\"])\n",
    "\n",
    "model.summary()\n"
   ]
  },
  {
   "cell_type": "code",
   "execution_count": 13,
   "id": "e1ab0ecf",
   "metadata": {
    "scrolled": false
   },
   "outputs": [
    {
     "name": "stdout",
     "output_type": "stream",
     "text": [
      "Epoch 1/1000\n",
      "165338/165338 [==============================] - 1553s 9ms/step - loss: 3.2101 - accuracy: 0.1849 - val_loss: 1.7510 - val_accuracy: 0.4407\n",
      "Epoch 2/1000\n",
      "165338/165338 [==============================] - 1528s 9ms/step - loss: 2.3114 - accuracy: 0.3273 - val_loss: 1.3726 - val_accuracy: 0.5427\n",
      "Epoch 3/1000\n",
      "165338/165338 [==============================] - 1546s 9ms/step - loss: 2.2078 - accuracy: 0.3567 - val_loss: 1.3658 - val_accuracy: 0.5492\n",
      "Epoch 4/1000\n",
      "165338/165338 [==============================] - 1570s 9ms/step - loss: 2.2564 - accuracy: 0.3542 - val_loss: 1.3588 - val_accuracy: 0.5495\n",
      "Epoch 5/1000\n",
      "165338/165338 [==============================] - 1550s 9ms/step - loss: 2.2894 - accuracy: 0.3522 - val_loss: 1.5836 - val_accuracy: 0.5068\n",
      "Epoch 6/1000\n",
      "165338/165338 [==============================] - 1556s 9ms/step - loss: 2.3083 - accuracy: 0.3542 - val_loss: 1.3539 - val_accuracy: 0.5621\n",
      "Epoch 7/1000\n",
      "165338/165338 [==============================] - 1554s 9ms/step - loss: 2.3070 - accuracy: 0.3589 - val_loss: 1.4545 - val_accuracy: 0.5339\n",
      "Epoch 8/1000\n",
      "165338/165338 [==============================] - 1521s 9ms/step - loss: 2.3126 - accuracy: 0.3594 - val_loss: 1.4008 - val_accuracy: 0.5475\n",
      "Epoch 9/1000\n",
      "165338/165338 [==============================] - 1498s 9ms/step - loss: 2.6482 - accuracy: 0.3059 - val_loss: 1.7032 - val_accuracy: 0.4813\n",
      "Epoch 10/1000\n",
      "165338/165338 [==============================] - 1534s 9ms/step - loss: 2.8819 - accuracy: 0.2666 - val_loss: 1.9390 - val_accuracy: 0.4276\n",
      "Epoch 11/1000\n",
      "165338/165338 [==============================] - 1535s 9ms/step - loss: 2.8200 - accuracy: 0.2713 - val_loss: 2.1761 - val_accuracy: 0.3859\n"
     ]
    }
   ],
   "source": [
    "from keras.callbacks import EarlyStopping\n",
    "\n",
    "es = EarlyStopping(monitor='val_loss', mode='min', patience=5)\n",
    "\n",
    "history =  model.fit(X_train, Y_train,\n",
    "                    epochs = 1000,\n",
    "                    validation_data = (X_test, Y_test),\n",
    "                    batch_size = 28,\n",
    "                    callbacks=[es])"
   ]
  },
  {
   "cell_type": "code",
   "execution_count": 14,
   "id": "d35bad25",
   "metadata": {},
   "outputs": [
    {
     "data": {
      "text/plain": [
       "<matplotlib.legend.Legend at 0x12039ee2198>"
      ]
     },
     "execution_count": 14,
     "metadata": {},
     "output_type": "execute_result"
    },
    {
     "data": {
      "image/png": "[encoded data removed]",
      "text/plain": [
       "<Figure size 432x288 with 1 Axes>"
      ]
     },
     "metadata": {
      "needs_background": "light"
     },
     "output_type": "display_data"
    }
   ],
   "source": [
    "#plt.figure(figsize=(6,4))\n",
    "plt.plot(history.history[\"loss\"], label=\"Train_loss\")\n",
    "plt.plot(history.history[\"val_loss\"], label=\"Val_loss\")\n",
    "plt.legend()\n"
   ]
  },
  {
   "cell_type": "code",
   "execution_count": 15,
   "id": "e829ac70",
   "metadata": {},
   "outputs": [
    {
     "data": {
      "text/plain": [
       "<matplotlib.legend.Legend at 0x12039fcd2e8>"
      ]
     },
     "execution_count": 15,
     "metadata": {},
     "output_type": "execute_result"
    },
    {
     "data": {
      "image/png": "[encoded data removed]",
      "text/plain": [
       "<Figure size 432x288 with 1 Axes>"
      ]
     },
     "metadata": {
      "needs_background": "light"
     },
     "output_type": "display_data"
    }
   ],
   "source": [
    "#plt.figure(figsize=(6,4))\n",
    "plt.plot(history.history[\"accuracy\"], label=\"Train_acc\")\n",
    "plt.plot(history.history[\"val_accuracy\"], label=\"Val_acc\")\n",
    "plt.legend()\n",
    "\n",
    "\n"
   ]
  },
  {
   "cell_type": "code",
   "execution_count": 16,
   "id": "c79b973c",
   "metadata": {},
   "outputs": [
    {
     "name": "stdout",
     "output_type": "stream",
     "text": [
      "16075/16075 [==============================] - 52s 3ms/step - loss: 2.1761 - accuracy: 0.3859\n"
     ]
    },
    {
     "data": {
      "text/plain": [
       "[2.176060438156128, 0.38590505719184875]"
      ]
     },
     "execution_count": 16,
     "metadata": {},
     "output_type": "execute_result"
    }
   ],
   "source": [
    "model.evaluate(X_test, Y_test)"
   ]
  },
  {
   "cell_type": "code",
   "execution_count": 17,
   "id": "8adbf625",
   "metadata": {},
   "outputs": [
    {
     "name": "stderr",
     "output_type": "stream",
     "text": [
      "C:\\Users\\tqkqh\\AppData\\Roaming\\Python\\Python36\\site-packages\\tensorflow\\python\\keras\\engine\\sequential.py:455: UserWarning: `model.predict_classes()` is deprecated and will be removed after 2021-01-01. Please use instead:* `np.argmax(model.predict(x), axis=-1)`,   if your model does multi-class classification   (e.g. if it uses a `softmax` last-layer activation).* `(model.predict(x) > 0.5).astype(\"int32\")`,   if your model does binary classification   (e.g. if it uses a `sigmoid` last-layer activation).\n",
      "  warnings.warn('`model.predict_classes()` is deprecated and '\n"
     ]
    },
    {
     "data": {
      "text/plain": [
       "array([2057, 1685, 1623, ..., 1883, 1629,  320], dtype=int64)"
      ]
     },
     "execution_count": 17,
     "metadata": {},
     "output_type": "execute_result"
    }
   ],
   "source": [
    "\n",
    "preds = model.predict_classes(X_test)\n",
    "preds\n",
    "#plt.imshow(preds[0])\n"
   ]
  },
  {
   "cell_type": "code",
   "execution_count": 18,
   "id": "8ad33207",
   "metadata": {
    "scrolled": true
   },
   "outputs": [
    {
     "data": {
      "text/plain": [
       "array([2041, 1640, 1623, ..., 1885, 1622,  321])"
      ]
     },
     "execution_count": 18,
     "metadata": {},
     "output_type": "execute_result"
    }
   ],
   "source": [
    "Y_test"
   ]
  },
  {
   "cell_type": "code",
   "execution_count": 19,
   "id": "d0a298f9",
   "metadata": {},
   "outputs": [
    {
     "name": "stdout",
     "output_type": "stream",
     "text": [
      "accuracy:  0.38590505518261686\n"
     ]
    }
   ],
   "source": [
    "accuracy= 0\n",
    "\n",
    "for i in range(len(Y_test)):\n",
    "    if(Y_test[i]== preds[i]):\n",
    "        accuracy+= 1\n",
    "        \n",
    "print(\"accuracy: \", accuracy/len(Y_test))\n"
   ]
  },
  {
   "cell_type": "code",
   "execution_count": 20,
   "id": "75ece919",
   "metadata": {},
   "outputs": [
    {
     "name": "stdout",
     "output_type": "stream",
     "text": [
      "(514383,)\n"
     ]
    },
    {
     "data": {
      "text/plain": [
       "<matplotlib.image.AxesImage at 0x1203a1002b0>"
      ]
     },
     "execution_count": 20,
     "metadata": {},
     "output_type": "execute_result"
    },
    {
     "data": {
      "image/png": "[encoded data removed]",
      "text/plain": [
       "<Figure size 432x288 with 1 Axes>"
      ]
     },
     "metadata": {
      "needs_background": "light"
     },
     "output_type": "display_data"
    }
   ],
   "source": [
    "print(preds.shape)\n",
    "plt.imshow(X_test[9])"
   ]
  },
  {
   "cell_type": "code",
   "execution_count": 21,
   "id": "8ca7239c",
   "metadata": {},
   "outputs": [
    {
     "data": {
      "image/png": "[encoded data removed]",
      "text/plain": [
       "<PIL.PngImagePlugin.PngImageFile image mode=RGB size=28x28 at 0x1203A13CB70>"
      ]
     },
     "execution_count": 21,
     "metadata": {},
     "output_type": "execute_result"
    }
   ],
   "source": [
    "from PIL import Image\n",
    "image_path = 'D:/img/test04.png'\n",
    "image = Image.open(image_path)\n",
    "image"
   ]
  },
  {
   "cell_type": "code",
   "execution_count": 22,
   "id": "5923b767",
   "metadata": {},
   "outputs": [
    {
     "data": {
      "text/plain": [
       "(28, 28, 3)"
      ]
     },
     "execution_count": 22,
     "metadata": {},
     "output_type": "execute_result"
    }
   ],
   "source": [
    "resize = image.resize((28, 28))\n",
    "m = np.asarray(resize)\n",
    "m.shape"
   ]
  },
  {
   "cell_type": "code",
   "execution_count": 23,
   "id": "17cbee81",
   "metadata": {},
   "outputs": [
    {
     "data": {
      "text/plain": [
       "(28, 28)"
      ]
     },
     "execution_count": 23,
     "metadata": {},
     "output_type": "execute_result"
    }
   ],
   "source": [
    "bw = np.asarray(resize.convert('L'))\n",
    "bw = np.asarray(bw, dtype = float)\n",
    "bw.shape"
   ]
  },
  {
   "cell_type": "code",
   "execution_count": 24,
   "id": "985210ff",
   "metadata": {},
   "outputs": [
    {
     "data": {
      "image/png": "[encoded data removed]",
      "text/plain": [
       "<Figure size 432x288 with 1 Axes>"
      ]
     },
     "metadata": {
      "needs_background": "light"
     },
     "output_type": "display_data"
    }
   ],
   "source": [
    "bw = bw.reshape(-1,28,28,1)\n",
    "plt.imshow(bw[0])\n",
    "plt.show()"
   ]
  },
  {
   "cell_type": "code",
   "execution_count": 25,
   "id": "04661b0b",
   "metadata": {},
   "outputs": [
    {
     "data": {
      "text/plain": [
       "array([23], dtype=int64)"
      ]
     },
     "execution_count": 25,
     "metadata": {},
     "output_type": "execute_result"
    }
   ],
   "source": [
    "preds = model.predict_classes(bw)\n",
    "preds"
   ]
  },
  {
   "cell_type": "code",
   "execution_count": 26,
   "id": "20a50be4",
   "metadata": {},
   "outputs": [
    {
     "name": "stdout",
     "output_type": "stream",
     "text": [
      "0\n"
     ]
    },
    {
     "data": {
      "text/plain": [
       "<matplotlib.image.AxesImage at 0x1203a23ccc0>"
      ]
     },
     "execution_count": 26,
     "metadata": {},
     "output_type": "execute_result"
    },
    {
     "data": {
      "image/png": "[encoded data removed]",
      "text/plain": [
       "<Figure size 432x288 with 1 Axes>"
      ]
     },
     "metadata": {
      "needs_background": "light"
     },
     "output_type": "display_data"
    }
   ],
   "source": [
    "answer = np.argmax(preds[0])\n",
    "print(answer)\n",
    "plt.imshow(X_test[answer])"
   ]
  },
  {
   "cell_type": "code",
   "execution_count": 27,
   "id": "23629ab2",
   "metadata": {},
   "outputs": [],
   "source": [
    "plt.show()"
   ]
  },
  {
   "cell_type": "code",
   "execution_count": null,
   "id": "9e8b397b",
   "metadata": {},
   "outputs": [],
   "source": []
  }
 ],
 "metadata": {
  "kernelspec": {
   "display_name": "Python 3",
   "language": "python",
   "name": "python3"
  },
  "language_info": {
   "codemirror_mode": {
    "name": "ipython",
    "version": 3
   },
   "file_extension": ".py",
   "mimetype": "text/x-python",
   "name": "python",
   "nbconvert_exporter": "python",
   "pygments_lexer": "ipython3",
   "version": "3.6.13"
  }
 },
 "nbformat": 4,
 "nbformat_minor": 5
}
